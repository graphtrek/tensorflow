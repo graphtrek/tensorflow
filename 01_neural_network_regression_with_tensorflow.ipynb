{
  "nbformat": 4,
  "nbformat_minor": 0,
  "metadata": {
    "colab": {
      "name": "01_neural_network_regression_with_tensorflow.ipynb",
      "provenance": [],
      "collapsed_sections": [
        "9oMDbXJo3Pmn",
        "ILyKNNmxuPY5"
      ],
      "authorship_tag": "ABX9TyMfqskgjS5VcJmtnNBu+wZ3",
      "include_colab_link": true
    },
    "kernelspec": {
      "name": "python3",
      "display_name": "Python 3"
    },
    "language_info": {
      "name": "python"
    }
  },
  "cells": [
    {
      "cell_type": "markdown",
      "metadata": {
        "id": "view-in-github",
        "colab_type": "text"
      },
      "source": [
        "<a href=\"https://colab.research.google.com/github/graphtrek/tensorflow/blob/main/01_neural_network_regression_with_tensorflow.ipynb\" target=\"_parent\"><img src=\"https://colab.research.google.com/assets/colab-badge.svg\" alt=\"Open In Colab\"/></a>"
      ]
    },
    {
      "cell_type": "code",
      "metadata": {
        "colab": {
          "base_uri": "https://localhost:8080/",
          "height": 38
        },
        "id": "xM_vIYIHrvIY",
        "outputId": "b6f671ff-1148-4dac-a857-ddf72440b28e"
      },
      "source": [
        "import tensorflow as tf\n",
        "import numpy as np\n",
        "import matplotlib.pyplot as plt\n",
        "tf.__version__"
      ],
      "execution_count": null,
      "outputs": [
        {
          "output_type": "execute_result",
          "data": {
            "application/vnd.google.colaboratory.intrinsic+json": {
              "type": "string"
            },
            "text/plain": [
              "'2.6.0'"
            ]
          },
          "metadata": {},
          "execution_count": 1
        }
      ]
    },
    {
      "cell_type": "code",
      "metadata": {
        "colab": {
          "base_uri": "https://localhost:8080/",
          "height": 286
        },
        "id": "mpZ41j_0soS4",
        "outputId": "3cd34fed-ed74-4f04-a06b-e23da29f5045"
      },
      "source": [
        "X = np.array([-7.0, -4.0, -1.0,  2.0,  5.0,  8.0, 11.0, 14.0])\n",
        "y = np.array([ 3.0,  6.0,  9.0, 12.0, 15.0, 18.0, 21.0, 24.0])\n",
        "plt.scatter(X,y)"
      ],
      "execution_count": null,
      "outputs": [
        {
          "output_type": "execute_result",
          "data": {
            "text/plain": [
              "<matplotlib.collections.PathCollection at 0x7f50f37c6b10>"
            ]
          },
          "metadata": {},
          "execution_count": 2
        },
        {
          "output_type": "display_data",
          "data": {
            "image/png": "[encoded data removed]",
            "text/plain": [
              "<Figure size 432x288 with 1 Axes>"
            ]
          },
          "metadata": {
            "needs_background": "light"
          }
        }
      ]
    },
    {
      "cell_type": "code",
      "metadata": {
        "colab": {
          "base_uri": "https://localhost:8080/"
        },
        "id": "SPnR685HtHc0",
        "outputId": "1f48b044-979e-4b6f-bc96-58cdb4409b85"
      },
      "source": [
        "## turn numpy arryes into tensors\n",
        "X = tf.constant(X)\n",
        "y = tf.constant(y)\n",
        "X, y"
      ],
      "execution_count": null,
      "outputs": [
        {
          "output_type": "execute_result",
          "data": {
            "text/plain": [
              "(<tf.Tensor: shape=(8,), dtype=float64, numpy=array([-7., -4., -1.,  2.,  5.,  8., 11., 14.])>,\n",
              " <tf.Tensor: shape=(8,), dtype=float64, numpy=array([ 3.,  6.,  9., 12., 15., 18., 21., 24.])>)"
            ]
          },
          "metadata": {},
          "execution_count": 3
        }
      ]
    },
    {
      "cell_type": "code",
      "metadata": {
        "colab": {
          "base_uri": "https://localhost:8080/",
          "height": 286
        },
        "id": "vsCp6vEe3EQC",
        "outputId": "05c64f82-3a33-4479-9072-d38d663b4962"
      },
      "source": [
        "plt.scatter(X,y)"
      ],
      "execution_count": null,
      "outputs": [
        {
          "output_type": "execute_result",
          "data": {
            "text/plain": [
              "<matplotlib.collections.PathCollection at 0x7f50f3789310>"
            ]
          },
          "metadata": {},
          "execution_count": 4
        },
        {
          "output_type": "display_data",
          "data": {
            "image/png": "[encoded data removed]",
            "text/plain": [
              "<Figure size 432x288 with 1 Axes>"
            ]
          },
          "metadata": {
            "needs_background": "light"
          }
        }
      ]
    },
    {
      "cell_type": "markdown",
      "metadata": {
        "id": "9oMDbXJo3Pmn"
      },
      "source": [
        "## Creating the model\n",
        "1. **Create the model** define the in/out layers keras.layers.Dense\n",
        "2. **Compile the model** set the loss function i.e.: Mean Absolute Error and th optimezer i.e Sochastic gradinet descent \n",
        "3. **Fit the model**"
      ]
    },
    {
      "cell_type": "code",
      "metadata": {
        "colab": {
          "base_uri": "https://localhost:8080/"
        },
        "id": "zNVunEvO5Myw",
        "outputId": "5682a86a-c4a5-42a1-90d1-e935b5c10b76"
      },
      "source": [
        "tf.random.set_seed(42)\n",
        "\n",
        "model = tf.keras.Sequential(\n",
        "    [tf.keras.layers.Dense(1) ## we use 1 neuron for the input and output layers\n",
        "])\n",
        "\n",
        "model.compile(\n",
        "    loss=tf.keras.metrics.MAE, ## tf.keras.losses.MAE\n",
        "    optimizer=tf.keras.optimizers.SGD(), ## tf.keras.optimizers.SGD\n",
        "    metrics=[\"mae\"]) ## tf.keras.metrics.MAE mea = Mean Absolute Error\n",
        "\n",
        "X = tf.cast(X,dtype=tf.float32) # layers.Dense default dtype is float 32\n",
        "y = tf.cast(y,dtype=tf.float32)\n",
        "\n",
        "model.fit(X, y,epochs=5)"
      ],
      "execution_count": null,
      "outputs": [
        {
          "output_type": "stream",
          "name": "stdout",
          "text": [
            "Epoch 1/5\n",
            "1/1 [==============================] - 1s 595ms/step - loss: 11.5048 - mae: 11.5048\n",
            "Epoch 2/5\n",
            "1/1 [==============================] - 0s 4ms/step - loss: 11.3723 - mae: 11.3723\n",
            "Epoch 3/5\n",
            "1/1 [==============================] - 0s 6ms/step - loss: 11.2398 - mae: 11.2398\n",
            "Epoch 4/5\n",
            "1/1 [==============================] - 0s 7ms/step - loss: 11.1073 - mae: 11.1073\n",
            "Epoch 5/5\n",
            "1/1 [==============================] - 0s 3ms/step - loss: 10.9748 - mae: 10.9748\n"
          ]
        },
        {
          "output_type": "execute_result",
          "data": {
            "text/plain": [
              "<keras.callbacks.History at 0x7f50ef723110>"
            ]
          },
          "metadata": {},
          "execution_count": 5
        }
      ]
    },
    {
      "cell_type": "code",
      "metadata": {
        "colab": {
          "base_uri": "https://localhost:8080/"
        },
        "id": "X7ogtxh4Sxge",
        "outputId": "7dc8bb2b-866f-45b5-d07f-9330fdf881d3"
      },
      "source": [
        "y_pred = model.predict([17.0])\n",
        "17.0 + 10.0 ,y_pred, y_pred + 10.9748"
      ],
      "execution_count": null,
      "outputs": [
        {
          "output_type": "execute_result",
          "data": {
            "text/plain": [
              "(27.0, array([[12.716021]], dtype=float32), array([[23.69082]], dtype=float32))"
            ]
          },
          "metadata": {},
          "execution_count": 6
        }
      ]
    },
    {
      "cell_type": "markdown",
      "metadata": {
        "id": "ILyKNNmxuPY5"
      },
      "source": [
        "## Improving the model"
      ]
    },
    {
      "cell_type": "code",
      "metadata": {
        "colab": {
          "base_uri": "https://localhost:8080/"
        },
        "id": "NOKxkHi-wrrP",
        "outputId": "17324069-df0b-4900-b728-7a463634712b"
      },
      "source": [
        "model1 = tf.keras.Sequential([\n",
        "   tf.keras.layers.Dense(50, activation=None),\n",
        "   tf.keras.layers.Dense(1)                           \n",
        "])\n",
        "\n",
        "model1.compile(loss=tf.keras.losses.MAE,\n",
        "               optimizer=tf.keras.optimizers.Adam(lr=0.01),\n",
        "               metrics=tf.keras.metrics.MAE)\n",
        "\n",
        "model1.fit(X, y, epochs=100)\n",
        "\n",
        "y1_pred = model1.predict([17.0])\n",
        "y1_pred, X, y"
      ],
      "execution_count": null,
      "outputs": [
        {
          "output_type": "stream",
          "name": "stderr",
          "text": [
            "/usr/local/lib/python3.7/dist-packages/keras/optimizer_v2/optimizer_v2.py:356: UserWarning: The `lr` argument is deprecated, use `learning_rate` instead.\n",
            "  \"The `lr` argument is deprecated, use `learning_rate` instead.\")\n"
          ]
        },
        {
          "output_type": "stream",
          "name": "stdout",
          "text": [
            "Epoch 1/100\n",
            "1/1 [==============================] - 0s 384ms/step - loss: 14.6466 - mean_absolute_error: 14.6466\n",
            "Epoch 2/100\n",
            "1/1 [==============================] - 0s 8ms/step - loss: 13.9532 - mean_absolute_error: 13.9532\n",
            "Epoch 3/100\n",
            "1/1 [==============================] - 0s 7ms/step - loss: 13.2603 - mean_absolute_error: 13.2603\n",
            "Epoch 4/100\n",
            "1/1 [==============================] - 0s 7ms/step - loss: 12.5659 - mean_absolute_error: 12.5659\n",
            "Epoch 5/100\n",
            "1/1 [==============================] - 0s 9ms/step - loss: 11.8675 - mean_absolute_error: 11.8675\n",
            "Epoch 6/100\n",
            "1/1 [==============================] - 0s 8ms/step - loss: 11.1621 - mean_absolute_error: 11.1621\n",
            "Epoch 7/100\n",
            "1/1 [==============================] - 0s 6ms/step - loss: 10.4475 - mean_absolute_error: 10.4475\n",
            "Epoch 8/100\n",
            "1/1 [==============================] - 0s 5ms/step - loss: 9.7214 - mean_absolute_error: 9.7214\n",
            "Epoch 9/100\n",
            "1/1 [==============================] - 0s 8ms/step - loss: 8.9817 - mean_absolute_error: 8.9817\n",
            "Epoch 10/100\n",
            "1/1 [==============================] - 0s 6ms/step - loss: 8.2262 - mean_absolute_error: 8.2262\n",
            "Epoch 11/100\n",
            "1/1 [==============================] - 0s 5ms/step - loss: 7.4526 - mean_absolute_error: 7.4526\n",
            "Epoch 12/100\n",
            "1/1 [==============================] - 0s 11ms/step - loss: 6.6585 - mean_absolute_error: 6.6585\n",
            "Epoch 13/100\n",
            "1/1 [==============================] - 0s 5ms/step - loss: 6.6244 - mean_absolute_error: 6.6244\n",
            "Epoch 14/100\n",
            "1/1 [==============================] - 0s 12ms/step - loss: 6.9777 - mean_absolute_error: 6.9777\n",
            "Epoch 15/100\n",
            "1/1 [==============================] - 0s 9ms/step - loss: 7.2653 - mean_absolute_error: 7.2653\n",
            "Epoch 16/100\n",
            "1/1 [==============================] - 0s 10ms/step - loss: 7.4820 - mean_absolute_error: 7.4820\n",
            "Epoch 17/100\n",
            "1/1 [==============================] - 0s 5ms/step - loss: 7.4879 - mean_absolute_error: 7.4879\n",
            "Epoch 18/100\n",
            "1/1 [==============================] - 0s 10ms/step - loss: 7.3301 - mean_absolute_error: 7.3301\n",
            "Epoch 19/100\n",
            "1/1 [==============================] - 0s 9ms/step - loss: 7.0454 - mean_absolute_error: 7.0454\n",
            "Epoch 20/100\n",
            "1/1 [==============================] - 0s 16ms/step - loss: 6.7251 - mean_absolute_error: 6.7251\n",
            "Epoch 21/100\n",
            "1/1 [==============================] - 0s 13ms/step - loss: 6.4643 - mean_absolute_error: 6.4643\n",
            "Epoch 22/100\n",
            "1/1 [==============================] - 0s 6ms/step - loss: 6.1900 - mean_absolute_error: 6.1900\n",
            "Epoch 23/100\n",
            "1/1 [==============================] - 0s 5ms/step - loss: 5.9246 - mean_absolute_error: 5.9246\n",
            "Epoch 24/100\n",
            "1/1 [==============================] - 0s 5ms/step - loss: 5.8782 - mean_absolute_error: 5.8782\n",
            "Epoch 25/100\n",
            "1/1 [==============================] - 0s 4ms/step - loss: 5.8276 - mean_absolute_error: 5.8276\n",
            "Epoch 26/100\n",
            "1/1 [==============================] - 0s 5ms/step - loss: 5.9724 - mean_absolute_error: 5.9724\n",
            "Epoch 27/100\n",
            "1/1 [==============================] - 0s 7ms/step - loss: 6.0130 - mean_absolute_error: 6.0130\n",
            "Epoch 28/100\n",
            "1/1 [==============================] - 0s 6ms/step - loss: 5.9583 - mean_absolute_error: 5.9583\n",
            "Epoch 29/100\n",
            "1/1 [==============================] - 0s 5ms/step - loss: 5.8190 - mean_absolute_error: 5.8190\n",
            "Epoch 30/100\n",
            "1/1 [==============================] - 0s 5ms/step - loss: 5.6030 - mean_absolute_error: 5.6030\n",
            "Epoch 31/100\n",
            "1/1 [==============================] - 0s 6ms/step - loss: 5.3433 - mean_absolute_error: 5.3433\n",
            "Epoch 32/100\n",
            "1/1 [==============================] - 0s 5ms/step - loss: 5.2352 - mean_absolute_error: 5.2352\n",
            "Epoch 33/100\n",
            "1/1 [==============================] - 0s 10ms/step - loss: 5.1239 - mean_absolute_error: 5.1239\n",
            "Epoch 34/100\n",
            "1/1 [==============================] - 0s 6ms/step - loss: 5.0746 - mean_absolute_error: 5.0746\n",
            "Epoch 35/100\n",
            "1/1 [==============================] - 0s 4ms/step - loss: 5.0523 - mean_absolute_error: 5.0523\n",
            "Epoch 36/100\n",
            "1/1 [==============================] - 0s 4ms/step - loss: 4.9871 - mean_absolute_error: 4.9871\n",
            "Epoch 37/100\n",
            "1/1 [==============================] - 0s 6ms/step - loss: 4.8824 - mean_absolute_error: 4.8824\n",
            "Epoch 38/100\n",
            "1/1 [==============================] - 0s 5ms/step - loss: 4.7409 - mean_absolute_error: 4.7409\n",
            "Epoch 39/100\n",
            "1/1 [==============================] - 0s 5ms/step - loss: 4.5658 - mean_absolute_error: 4.5658\n",
            "Epoch 40/100\n",
            "1/1 [==============================] - 0s 5ms/step - loss: 4.4020 - mean_absolute_error: 4.4020\n",
            "Epoch 41/100\n",
            "1/1 [==============================] - 0s 6ms/step - loss: 4.3009 - mean_absolute_error: 4.3009\n",
            "Epoch 42/100\n",
            "1/1 [==============================] - 0s 4ms/step - loss: 4.1923 - mean_absolute_error: 4.1923\n",
            "Epoch 43/100\n",
            "1/1 [==============================] - 0s 4ms/step - loss: 4.0760 - mean_absolute_error: 4.0760\n",
            "Epoch 44/100\n",
            "1/1 [==============================] - 0s 6ms/step - loss: 4.0086 - mean_absolute_error: 4.0086\n",
            "Epoch 45/100\n",
            "1/1 [==============================] - 0s 4ms/step - loss: 3.8364 - mean_absolute_error: 3.8364\n",
            "Epoch 46/100\n",
            "1/1 [==============================] - 0s 7ms/step - loss: 3.6514 - mean_absolute_error: 3.6514\n",
            "Epoch 47/100\n",
            "1/1 [==============================] - 0s 5ms/step - loss: 3.4858 - mean_absolute_error: 3.4858\n",
            "Epoch 48/100\n",
            "1/1 [==============================] - 0s 5ms/step - loss: 3.3568 - mean_absolute_error: 3.3568\n",
            "Epoch 49/100\n",
            "1/1 [==============================] - 0s 4ms/step - loss: 3.2428 - mean_absolute_error: 3.2428\n",
            "Epoch 50/100\n",
            "1/1 [==============================] - 0s 5ms/step - loss: 3.0760 - mean_absolute_error: 3.0760\n",
            "Epoch 51/100\n",
            "1/1 [==============================] - 0s 6ms/step - loss: 2.8591 - mean_absolute_error: 2.8591\n",
            "Epoch 52/100\n",
            "1/1 [==============================] - 0s 8ms/step - loss: 2.6501 - mean_absolute_error: 2.6501\n",
            "Epoch 53/100\n",
            "1/1 [==============================] - 0s 10ms/step - loss: 2.4760 - mean_absolute_error: 2.4760\n",
            "Epoch 54/100\n",
            "1/1 [==============================] - 0s 5ms/step - loss: 2.3457 - mean_absolute_error: 2.3457\n",
            "Epoch 55/100\n",
            "1/1 [==============================] - 0s 5ms/step - loss: 2.1065 - mean_absolute_error: 2.1065\n",
            "Epoch 56/100\n",
            "1/1 [==============================] - 0s 5ms/step - loss: 1.8523 - mean_absolute_error: 1.8523\n",
            "Epoch 57/100\n",
            "1/1 [==============================] - 0s 5ms/step - loss: 1.7208 - mean_absolute_error: 1.7208\n",
            "Epoch 58/100\n",
            "1/1 [==============================] - 0s 9ms/step - loss: 1.5507 - mean_absolute_error: 1.5507\n",
            "Epoch 59/100\n",
            "1/1 [==============================] - 0s 5ms/step - loss: 1.2700 - mean_absolute_error: 1.2700\n",
            "Epoch 60/100\n",
            "1/1 [==============================] - 0s 11ms/step - loss: 0.9323 - mean_absolute_error: 0.9323\n",
            "Epoch 61/100\n",
            "1/1 [==============================] - 0s 5ms/step - loss: 0.8599 - mean_absolute_error: 0.8599\n",
            "Epoch 62/100\n",
            "1/1 [==============================] - 0s 5ms/step - loss: 0.6865 - mean_absolute_error: 0.6865\n",
            "Epoch 63/100\n",
            "1/1 [==============================] - 0s 6ms/step - loss: 0.3405 - mean_absolute_error: 0.3405\n",
            "Epoch 64/100\n",
            "1/1 [==============================] - 0s 7ms/step - loss: 0.1659 - mean_absolute_error: 0.1659\n",
            "Epoch 65/100\n",
            "1/1 [==============================] - 0s 5ms/step - loss: 0.4224 - mean_absolute_error: 0.4224\n",
            "Epoch 66/100\n",
            "1/1 [==============================] - 0s 6ms/step - loss: 0.4802 - mean_absolute_error: 0.4802\n",
            "Epoch 67/100\n",
            "1/1 [==============================] - 0s 5ms/step - loss: 0.6473 - mean_absolute_error: 0.6473\n",
            "Epoch 68/100\n",
            "1/1 [==============================] - 0s 6ms/step - loss: 0.6601 - mean_absolute_error: 0.6601\n",
            "Epoch 69/100\n",
            "1/1 [==============================] - 0s 6ms/step - loss: 0.7372 - mean_absolute_error: 0.7372\n",
            "Epoch 70/100\n",
            "1/1 [==============================] - 0s 6ms/step - loss: 0.7022 - mean_absolute_error: 0.7022\n",
            "Epoch 71/100\n",
            "1/1 [==============================] - 0s 6ms/step - loss: 0.6318 - mean_absolute_error: 0.6318\n",
            "Epoch 72/100\n",
            "1/1 [==============================] - 0s 7ms/step - loss: 0.6151 - mean_absolute_error: 0.6151\n",
            "Epoch 73/100\n",
            "1/1 [==============================] - 0s 5ms/step - loss: 0.4329 - mean_absolute_error: 0.4329\n",
            "Epoch 74/100\n",
            "1/1 [==============================] - 0s 7ms/step - loss: 0.4277 - mean_absolute_error: 0.4277\n",
            "Epoch 75/100\n",
            "1/1 [==============================] - 0s 5ms/step - loss: 0.3097 - mean_absolute_error: 0.3097\n",
            "Epoch 76/100\n",
            "1/1 [==============================] - 0s 7ms/step - loss: 0.0356 - mean_absolute_error: 0.0356\n",
            "Epoch 77/100\n",
            "1/1 [==============================] - 0s 5ms/step - loss: 0.4880 - mean_absolute_error: 0.4880\n",
            "Epoch 78/100\n",
            "1/1 [==============================] - 0s 6ms/step - loss: 0.6479 - mean_absolute_error: 0.6479\n",
            "Epoch 79/100\n",
            "1/1 [==============================] - 0s 6ms/step - loss: 0.6174 - mean_absolute_error: 0.6174\n",
            "Epoch 80/100\n",
            "1/1 [==============================] - 0s 7ms/step - loss: 0.4529 - mean_absolute_error: 0.4529\n",
            "Epoch 81/100\n",
            "1/1 [==============================] - 0s 7ms/step - loss: 0.6294 - mean_absolute_error: 0.6294\n",
            "Epoch 82/100\n",
            "1/1 [==============================] - 0s 5ms/step - loss: 0.7850 - mean_absolute_error: 0.7850\n",
            "Epoch 83/100\n",
            "1/1 [==============================] - 0s 4ms/step - loss: 0.6653 - mean_absolute_error: 0.6653\n",
            "Epoch 84/100\n",
            "1/1 [==============================] - 0s 4ms/step - loss: 0.3935 - mean_absolute_error: 0.3935\n",
            "Epoch 85/100\n",
            "1/1 [==============================] - 0s 4ms/step - loss: 0.5590 - mean_absolute_error: 0.5590\n",
            "Epoch 86/100\n",
            "1/1 [==============================] - 0s 5ms/step - loss: 0.6263 - mean_absolute_error: 0.6263\n",
            "Epoch 87/100\n",
            "1/1 [==============================] - 0s 5ms/step - loss: 0.5316 - mean_absolute_error: 0.5316\n",
            "Epoch 88/100\n",
            "1/1 [==============================] - 0s 5ms/step - loss: 0.2161 - mean_absolute_error: 0.2161\n",
            "Epoch 89/100\n",
            "1/1 [==============================] - 0s 6ms/step - loss: 0.3441 - mean_absolute_error: 0.3441\n",
            "Epoch 90/100\n",
            "1/1 [==============================] - 0s 15ms/step - loss: 0.5325 - mean_absolute_error: 0.5325\n",
            "Epoch 91/100\n",
            "1/1 [==============================] - 0s 6ms/step - loss: 0.4389 - mean_absolute_error: 0.4389\n",
            "Epoch 92/100\n",
            "1/1 [==============================] - 0s 7ms/step - loss: 0.2560 - mean_absolute_error: 0.2560\n",
            "Epoch 93/100\n",
            "1/1 [==============================] - 0s 5ms/step - loss: 0.5795 - mean_absolute_error: 0.5795\n",
            "Epoch 94/100\n",
            "1/1 [==============================] - 0s 7ms/step - loss: 0.7585 - mean_absolute_error: 0.7585\n",
            "Epoch 95/100\n",
            "1/1 [==============================] - 0s 9ms/step - loss: 0.6773 - mean_absolute_error: 0.6773\n",
            "Epoch 96/100\n",
            "1/1 [==============================] - 0s 8ms/step - loss: 0.3691 - mean_absolute_error: 0.3691\n",
            "Epoch 97/100\n",
            "1/1 [==============================] - 0s 9ms/step - loss: 0.3135 - mean_absolute_error: 0.3135\n",
            "Epoch 98/100\n",
            "1/1 [==============================] - 0s 8ms/step - loss: 0.5528 - mean_absolute_error: 0.5528\n",
            "Epoch 99/100\n",
            "1/1 [==============================] - 0s 9ms/step - loss: 0.5451 - mean_absolute_error: 0.5451\n",
            "Epoch 100/100\n",
            "1/1 [==============================] - 0s 6ms/step - loss: 0.2902 - mean_absolute_error: 0.2902\n"
          ]
        },
        {
          "output_type": "execute_result",
          "data": {
            "text/plain": [
              "(array([[26.434414]], dtype=float32),\n",
              " <tf.Tensor: shape=(8,), dtype=float32, numpy=array([-7., -4., -1.,  2.,  5.,  8., 11., 14.], dtype=float32)>,\n",
              " <tf.Tensor: shape=(8,), dtype=float32, numpy=array([ 3.,  6.,  9., 12., 15., 18., 21., 24.], dtype=float32)>)"
            ]
          },
          "metadata": {},
          "execution_count": 7
        }
      ]
    },
    {
      "cell_type": "markdown",
      "metadata": {
        "id": "9dEmeeEzw8sr"
      },
      "source": [
        "## Evaluating the model"
      ]
    },
    {
      "cell_type": "code",
      "metadata": {
        "colab": {
          "base_uri": "https://localhost:8080/",
          "height": 71
        },
        "id": "xJymASTfxAMh",
        "outputId": "b69d7c6d-5e8b-4f26-e0d4-e04f204507be"
      },
      "source": [
        "X = tf.range(-100,100, 4)\n",
        "y = X + 10\n",
        "\n",
        "print(\"Nr of data:\" + str(len(X)))\n",
        "\n",
        "X_train = X[:40] ## first 40\n",
        "y_train = y[:40] ## first 40\n",
        "\n",
        "X_test = X[40:] # last 10\n",
        "y_test = y[40:] # last 10\n",
        "\n",
        "plt.figure(figsize=(20,7))\n",
        "plt.scatter(X_train,y_train,color=\"blue\", label=\"Traning data\")\n",
        "plt.scatter(X_test,y_test,color=\"red\", label=\"Testing data\")\n",
        "plt.legend()\n",
        "plt.show()"
      ],
      "execution_count": null,
      "outputs": [
        {
          "output_type": "stream",
          "name": "stdout",
          "text": [
            "Nr of data:50\n"
          ]
        },
        {
          "output_type": "display_data",
          "data": {
            "image/png": "[encoded data removed]",
            "text/plain": [
              "<Figure size 1440x504 with 1 Axes>"
            ]
          },
          "metadata": {
            "needs_background": "light"
          }
        }
      ]
    },
    {
      "cell_type": "code",
      "metadata": {
        "colab": {
          "base_uri": "https://localhost:8080/",
          "height": 275
        },
        "id": "JDlRkabu2CaJ",
        "outputId": "22abe3aa-a782-4f69-ac54-78d10de245bd"
      },
      "source": [
        "tf.random.set_seed(42)\n",
        "\n",
        "model = tf.keras.Sequential([\n",
        "  #tf.keras.layers.Dense(10, activation=\"relu\"),\n",
        "  tf.keras.Input(shape=(1,),name=\"input_layer\"),\n",
        "  tf.keras.layers.Dense(10, name=\"hidden_layer\"),\n",
        "  tf.keras.layers.Dense(1, name=\"output_layer\")\n",
        "],name=\"Test_model\")\n",
        "\n",
        "model.compile(\n",
        "    loss=tf.keras.losses.MAE,\n",
        "    optimizer=tf.keras.optimizers.SGD(),\n",
        "    metrics=[\"mae\"]\n",
        ")\n",
        "\n",
        "model.summary()\n",
        "\n",
        "model0 = model.fit(X_train, y_train, epochs=100, verbose=0)\n",
        "plt.plot(model0.history[\"loss\"])"
      ],
      "execution_count": null,
      "outputs": [
        {
          "output_type": "stream",
          "name": "stdout",
          "text": [
            "Model: \"Test_model\"\n",
            "_________________________________________________________________\n",
            "Layer (type)                 Output Shape              Param #   \n",
            "=================================================================\n",
            "hidden_layer (Dense)         (None, 10)                20        \n",
            "_________________________________________________________________\n",
            "output_layer (Dense)         (None, 1)                 11        \n",
            "=================================================================\n",
            "Total params: 31\n",
            "Trainable params: 31\n",
            "Non-trainable params: 0\n",
            "_________________________________________________________________\n"
          ]
        },
        {
          "output_type": "execute_result",
          "data": {
            "text/plain": [
              "[<matplotlib.lines.Line2D at 0x7f50ecd15690>]"
            ]
          },
          "metadata": {},
          "execution_count": 9
        },
        {
          "output_type": "display_data",
          "data": {
            "image/png": "[encoded data removed]",
            "text/plain": [
              "<Figure size 432x288 with 1 Axes>"
            ]
          },
          "metadata": {
            "needs_background": "light"
          }
        }
      ]
    },
    {
      "cell_type": "code",
      "metadata": {
        "colab": {
          "base_uri": "https://localhost:8080/",
          "height": 54
        },
        "id": "FaGmkjhQhEO_",
        "outputId": "cfb3ab51-502b-46e2-b7b0-cf3cb5f1ade3"
      },
      "source": [
        "from tensorflow.keras.utils import plot_model\n",
        "\n",
        "plot_model(model=model,show_shapes=True,show_layer_names=True)"
      ],
      "execution_count": null,
      "outputs": [
        {
          "output_type": "execute_result",
          "data": {
            "image/png": "[encoded data removed]",
            "text/plain": [
              "<IPython.core.display.Image object>"
            ]
          },
          "metadata": {},
          "execution_count": 10
        }
      ]
    },
    {
      "cell_type": "code",
      "metadata": {
        "colab": {
          "base_uri": "https://localhost:8080/",
          "height": 54
        },
        "id": "ZHnakBo6qZfG",
        "outputId": "bd988336-f2bb-4b5a-c048-f47a0eac58e0"
      },
      "source": [
        "y_pred = model.predict(X_test)\n",
        "y_pred, y_test\n",
        "plt.figure(figsize=(10,7))\n",
        "plt.plot(X_train,y_train,color=\"blue\",label=\"train\")\n",
        "plt.plot(X_test, y_test, color=\"green\",label=\"test\")\n",
        "plt.scatter(X_test, y_pred, color=\"red\",label=\"pred\")\n",
        "plt.legend()\n",
        "plt.show()"
      ],
      "execution_count": null,
      "outputs": [
        {
          "output_type": "display_data",
          "data": {
            "image/png": "[encoded data removed]",
            "text/plain": [
              "<Figure size 720x504 with 1 Axes>"
            ]
          },
          "metadata": {
            "needs_background": "light"
          }
        }
      ]
    }
  ]
}